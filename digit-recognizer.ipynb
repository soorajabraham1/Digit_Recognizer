{
 "cells": [
  {
   "cell_type": "code",
   "execution_count": 1,
   "id": "8e9331db",
   "metadata": {
    "_cell_guid": "b1076dfc-b9ad-4769-8c92-a6c4dae69d19",
    "_uuid": "8f2839f25d086af736a60e9eeb907d3b93b6e0e5",
    "execution": {
     "iopub.execute_input": "2022-08-09T14:40:34.999443Z",
     "iopub.status.busy": "2022-08-09T14:40:34.999055Z",
     "iopub.status.idle": "2022-08-09T14:40:35.012595Z",
     "shell.execute_reply": "2022-08-09T14:40:35.011589Z"
    },
    "papermill": {
     "duration": 0.049977,
     "end_time": "2022-08-09T14:40:35.014886",
     "exception": false,
     "start_time": "2022-08-09T14:40:34.964909",
     "status": "completed"
    },
    "tags": []
   },
   "outputs": [
    {
     "name": "stdout",
     "output_type": "stream",
     "text": [
      "/kaggle/input/digit-recognizer/sample_submission.csv\n",
      "/kaggle/input/digit-recognizer/train.csv\n",
      "/kaggle/input/digit-recognizer/test.csv\n"
     ]
    }
   ],
   "source": [
    "import numpy as np # linear algebra\n",
    "import pandas as pd # data processing, CSV file I/O (e.g. pd.read_csv)\n",
    "import os\n",
    "for dirname, _, filenames in os.walk('/kaggle/input'):\n",
    "    for filename in filenames:\n",
    "        print(os.path.join(dirname, filename))"
   ]
  },
  {
   "cell_type": "code",
   "execution_count": 2,
   "id": "cc79b801",
   "metadata": {
    "execution": {
     "iopub.execute_input": "2022-08-09T14:40:35.079255Z",
     "iopub.status.busy": "2022-08-09T14:40:35.078896Z",
     "iopub.status.idle": "2022-08-09T14:40:42.366351Z",
     "shell.execute_reply": "2022-08-09T14:40:42.365407Z"
    },
    "papermill": {
     "duration": 7.321857,
     "end_time": "2022-08-09T14:40:42.369055",
     "exception": false,
     "start_time": "2022-08-09T14:40:35.047198",
     "status": "completed"
    },
    "tags": []
   },
   "outputs": [],
   "source": [
    "\n",
    "import matplotlib.pyplot as plt\n",
    "import seaborn as sns\n",
    "from sklearn.model_selection import train_test_split\n",
    "from sklearn.metrics import confusion_matrix\n",
    "\n",
    "from keras.utils.np_utils import to_categorical\n",
    "from keras.preprocessing.image import ImageDataGenerator\n",
    "from keras.models import Sequential\n",
    "from keras.layers import Dense,Conv2D,Flatten,MaxPool2D,Dropout,BatchNormalization\n",
    "\n",
    "from keras.callbacks import ReduceLROnPlateau"
   ]
  },
  {
   "cell_type": "code",
   "execution_count": 3,
   "id": "1106d013",
   "metadata": {
    "execution": {
     "iopub.execute_input": "2022-08-09T14:40:42.431980Z",
     "iopub.status.busy": "2022-08-09T14:40:42.431712Z",
     "iopub.status.idle": "2022-08-09T14:40:42.919588Z",
     "shell.execute_reply": "2022-08-09T14:40:42.918556Z"
    },
    "papermill": {
     "duration": 0.521997,
     "end_time": "2022-08-09T14:40:42.922144",
     "exception": false,
     "start_time": "2022-08-09T14:40:42.400147",
     "status": "completed"
    },
    "tags": []
   },
   "outputs": [],
   "source": [
    "from tensorflow.keras.optimizers import RMSprop,Adam"
   ]
  },
  {
   "cell_type": "code",
   "execution_count": 4,
   "id": "ed0e7d22",
   "metadata": {
    "execution": {
     "iopub.execute_input": "2022-08-09T14:40:42.985122Z",
     "iopub.status.busy": "2022-08-09T14:40:42.984794Z",
     "iopub.status.idle": "2022-08-09T14:40:42.989419Z",
     "shell.execute_reply": "2022-08-09T14:40:42.988457Z"
    },
    "papermill": {
     "duration": 0.038297,
     "end_time": "2022-08-09T14:40:42.991482",
     "exception": false,
     "start_time": "2022-08-09T14:40:42.953185",
     "status": "completed"
    },
    "tags": []
   },
   "outputs": [],
   "source": [
    "import tensorflow as tf\n",
    "from keras import optimizers "
   ]
  },
  {
   "cell_type": "code",
   "execution_count": 5,
   "id": "3f874e3b",
   "metadata": {
    "execution": {
     "iopub.execute_input": "2022-08-09T14:40:43.055431Z",
     "iopub.status.busy": "2022-08-09T14:40:43.054465Z",
     "iopub.status.idle": "2022-08-09T14:40:48.221573Z",
     "shell.execute_reply": "2022-08-09T14:40:48.220542Z"
    },
    "papermill": {
     "duration": 5.201669,
     "end_time": "2022-08-09T14:40:48.224046",
     "exception": false,
     "start_time": "2022-08-09T14:40:43.022377",
     "status": "completed"
    },
    "tags": []
   },
   "outputs": [],
   "source": [
    "train=pd.read_csv(\"/kaggle/input/digit-recognizer/train.csv\")\n",
    "test=pd.read_csv(\"/kaggle/input/digit-recognizer/test.csv\")"
   ]
  },
  {
   "cell_type": "code",
   "execution_count": 6,
   "id": "82150ff0",
   "metadata": {
    "execution": {
     "iopub.execute_input": "2022-08-09T14:40:48.287338Z",
     "iopub.status.busy": "2022-08-09T14:40:48.287008Z",
     "iopub.status.idle": "2022-08-09T14:40:48.406017Z",
     "shell.execute_reply": "2022-08-09T14:40:48.405289Z"
    },
    "papermill": {
     "duration": 0.15369,
     "end_time": "2022-08-09T14:40:48.408528",
     "exception": false,
     "start_time": "2022-08-09T14:40:48.254838",
     "status": "completed"
    },
    "tags": []
   },
   "outputs": [],
   "source": [
    "train_label=train['label']\n",
    "train_data=train.drop('label', axis=1)"
   ]
  },
  {
   "cell_type": "code",
   "execution_count": 7,
   "id": "c462fdce",
   "metadata": {
    "execution": {
     "iopub.execute_input": "2022-08-09T14:40:48.473301Z",
     "iopub.status.busy": "2022-08-09T14:40:48.472633Z",
     "iopub.status.idle": "2022-08-09T14:40:48.494935Z",
     "shell.execute_reply": "2022-08-09T14:40:48.494097Z"
    },
    "papermill": {
     "duration": 0.05608,
     "end_time": "2022-08-09T14:40:48.497239",
     "exception": false,
     "start_time": "2022-08-09T14:40:48.441159",
     "status": "completed"
    },
    "tags": []
   },
   "outputs": [
    {
     "data": {
      "text/plain": [
       "count       784\n",
       "unique        1\n",
       "top       False\n",
       "freq        784\n",
       "dtype: object"
      ]
     },
     "execution_count": 7,
     "metadata": {},
     "output_type": "execute_result"
    }
   ],
   "source": [
    "train_data.isnull().any().describe()"
   ]
  },
  {
   "cell_type": "code",
   "execution_count": 8,
   "id": "4a8c4e60",
   "metadata": {
    "execution": {
     "iopub.execute_input": "2022-08-09T14:40:48.560022Z",
     "iopub.status.busy": "2022-08-09T14:40:48.559719Z",
     "iopub.status.idle": "2022-08-09T14:40:48.576495Z",
     "shell.execute_reply": "2022-08-09T14:40:48.575659Z"
    },
    "papermill": {
     "duration": 0.05077,
     "end_time": "2022-08-09T14:40:48.578598",
     "exception": false,
     "start_time": "2022-08-09T14:40:48.527828",
     "status": "completed"
    },
    "tags": []
   },
   "outputs": [
    {
     "data": {
      "text/plain": [
       "count       784\n",
       "unique        1\n",
       "top       False\n",
       "freq        784\n",
       "dtype: object"
      ]
     },
     "execution_count": 8,
     "metadata": {},
     "output_type": "execute_result"
    }
   ],
   "source": [
    "test.isnull().any().describe()"
   ]
  },
  {
   "cell_type": "code",
   "execution_count": 9,
   "id": "5cc965e3",
   "metadata": {
    "execution": {
     "iopub.execute_input": "2022-08-09T14:40:48.642727Z",
     "iopub.status.busy": "2022-08-09T14:40:48.642448Z",
     "iopub.status.idle": "2022-08-09T14:40:48.720000Z",
     "shell.execute_reply": "2022-08-09T14:40:48.719304Z"
    },
    "papermill": {
     "duration": 0.112483,
     "end_time": "2022-08-09T14:40:48.722415",
     "exception": false,
     "start_time": "2022-08-09T14:40:48.609932",
     "status": "completed"
    },
    "tags": []
   },
   "outputs": [],
   "source": [
    "train_data=train_data /255\n"
   ]
  },
  {
   "cell_type": "code",
   "execution_count": 10,
   "id": "102e7c53",
   "metadata": {
    "execution": {
     "iopub.execute_input": "2022-08-09T14:40:48.786714Z",
     "iopub.status.busy": "2022-08-09T14:40:48.786407Z",
     "iopub.status.idle": "2022-08-09T14:40:48.790509Z",
     "shell.execute_reply": "2022-08-09T14:40:48.789747Z"
    },
    "papermill": {
     "duration": 0.038799,
     "end_time": "2022-08-09T14:40:48.792601",
     "exception": false,
     "start_time": "2022-08-09T14:40:48.753802",
     "status": "completed"
    },
    "tags": []
   },
   "outputs": [],
   "source": [
    "\n",
    "train_data=train_data.values.reshape(-1,28,28,1)\n"
   ]
  },
  {
   "cell_type": "code",
   "execution_count": 11,
   "id": "088dd353",
   "metadata": {
    "execution": {
     "iopub.execute_input": "2022-08-09T14:40:48.857681Z",
     "iopub.status.busy": "2022-08-09T14:40:48.857117Z",
     "iopub.status.idle": "2022-08-09T14:40:48.861743Z",
     "shell.execute_reply": "2022-08-09T14:40:48.861122Z"
    },
    "papermill": {
     "duration": 0.039161,
     "end_time": "2022-08-09T14:40:48.863726",
     "exception": false,
     "start_time": "2022-08-09T14:40:48.824565",
     "status": "completed"
    },
    "tags": []
   },
   "outputs": [],
   "source": [
    "train_label = to_categorical(train_label, num_classes = 10)"
   ]
  },
  {
   "cell_type": "code",
   "execution_count": 12,
   "id": "20aa9c51",
   "metadata": {
    "execution": {
     "iopub.execute_input": "2022-08-09T14:40:48.928241Z",
     "iopub.status.busy": "2022-08-09T14:40:48.927917Z",
     "iopub.status.idle": "2022-08-09T14:40:49.318596Z",
     "shell.execute_reply": "2022-08-09T14:40:49.317715Z"
    },
    "papermill": {
     "duration": 0.42582,
     "end_time": "2022-08-09T14:40:49.321118",
     "exception": false,
     "start_time": "2022-08-09T14:40:48.895298",
     "status": "completed"
    },
    "tags": []
   },
   "outputs": [],
   "source": [
    "X_train,X_test,y_train,y_test=train_test_split(train_data,train_label,random_state=42,test_size=0.15)"
   ]
  },
  {
   "cell_type": "markdown",
   "id": "82a38ce1",
   "metadata": {
    "papermill": {
     "duration": 0.031281,
     "end_time": "2022-08-09T14:40:49.384230",
     "exception": false,
     "start_time": "2022-08-09T14:40:49.352949",
     "status": "completed"
    },
    "tags": []
   },
   "source": [
    "MODEL"
   ]
  },
  {
   "cell_type": "code",
   "execution_count": 13,
   "id": "11d58fb8",
   "metadata": {
    "execution": {
     "iopub.execute_input": "2022-08-09T14:40:49.448593Z",
     "iopub.status.busy": "2022-08-09T14:40:49.448297Z",
     "iopub.status.idle": "2022-08-09T14:40:49.558655Z",
     "shell.execute_reply": "2022-08-09T14:40:49.557820Z"
    },
    "papermill": {
     "duration": 0.145491,
     "end_time": "2022-08-09T14:40:49.561227",
     "exception": false,
     "start_time": "2022-08-09T14:40:49.415736",
     "status": "completed"
    },
    "tags": []
   },
   "outputs": [],
   "source": [
    "datagen = ImageDataGenerator(\n",
    "        featurewise_center=False,  # set input mean to 0 over the dataset\n",
    "        samplewise_center=False,  # set each sample mean to 0\n",
    "        featurewise_std_normalization=False,  # divide inputs by std of the dataset\n",
    "        samplewise_std_normalization=False,  # divide each input by its std\n",
    "        zca_whitening=False,  # apply ZCA whitening\n",
    "        rotation_range=10,  # randomly rotate images in the range (degrees, 0 to 180)\n",
    "        zoom_range = 0.1, # Randomly zoom image \n",
    "        width_shift_range=0.1,  # randomly shift images horizontally (fraction of total width)\n",
    "        height_shift_range=0.1,  # randomly shift images vertically (fraction of total height)\n",
    "        horizontal_flip=False,  # randomly flip images\n",
    "        vertical_flip=False)  # randomly flip images\n",
    "\n",
    "\n",
    "datagen.fit(X_train)"
   ]
  },
  {
   "cell_type": "code",
   "execution_count": 14,
   "id": "9cc7a818",
   "metadata": {
    "execution": {
     "iopub.execute_input": "2022-08-09T14:40:49.626398Z",
     "iopub.status.busy": "2022-08-09T14:40:49.625476Z",
     "iopub.status.idle": "2022-08-09T14:40:49.872658Z",
     "shell.execute_reply": "2022-08-09T14:40:49.871894Z"
    },
    "papermill": {
     "duration": 0.281728,
     "end_time": "2022-08-09T14:40:49.874756",
     "exception": false,
     "start_time": "2022-08-09T14:40:49.593028",
     "status": "completed"
    },
    "tags": []
   },
   "outputs": [
    {
     "name": "stderr",
     "output_type": "stream",
     "text": [
      "2022-08-09 14:40:49.667878: I tensorflow/core/common_runtime/process_util.cc:146] Creating new thread pool with default inter op setting: 2. Tune using inter_op_parallelism_threads for best performance.\n"
     ]
    }
   ],
   "source": [
    "model = Sequential()\n",
    "\n",
    "model.add(Conv2D(filters = 32, kernel_size = (5,5),padding = 'Same', \n",
    "                 activation ='relu', input_shape = (28,28,1)))\n",
    "model.add(Conv2D(filters = 32, kernel_size = (5,5),padding = 'Same', \n",
    "                 activation ='relu'))\n",
    "model.add(BatchNormalization(momentum=.15))\n",
    "model.add(MaxPool2D(pool_size=(2,2)))\n",
    "model.add(Dropout(0.25))\n",
    "\n",
    "\n",
    "model.add(Conv2D(filters = 64, kernel_size = (3,3),padding = 'Same', \n",
    "                 activation ='relu'))\n",
    "model.add(Conv2D(filters = 64, kernel_size = (3,3),padding = 'Same', \n",
    "                 activation ='relu'))\n",
    "model.add(BatchNormalization(momentum=0.15))\n",
    "model.add(MaxPool2D(pool_size=(2,2), strides=(2,2)))\n",
    "model.add(Dropout(0.25))\n",
    "\n",
    "model.add(Conv2D(filters = 32, kernel_size = (5,5),padding = 'Same', \n",
    "                 activation ='relu', input_shape = (28,28,1)))\n",
    "model.add(Conv2D(filters = 32, kernel_size = (5,5),padding = 'Same', \n",
    "                 activation ='relu'))\n",
    "model.add(BatchNormalization(momentum=.15))\n",
    "model.add(MaxPool2D(pool_size=(2,2)))\n",
    "model.add(Dropout(0.25))\n",
    "\n",
    "\n",
    "model.add(Flatten())\n",
    "model.add(Dense(256, activation = \"relu\"))\n",
    "model.add(Dropout(0.4))\n",
    "model.add(Dense(10, activation = \"softmax\"))"
   ]
  },
  {
   "cell_type": "code",
   "execution_count": 15,
   "id": "05608939",
   "metadata": {
    "execution": {
     "iopub.execute_input": "2022-08-09T14:40:49.940318Z",
     "iopub.status.busy": "2022-08-09T14:40:49.939387Z",
     "iopub.status.idle": "2022-08-09T14:40:49.952702Z",
     "shell.execute_reply": "2022-08-09T14:40:49.952107Z"
    },
    "papermill": {
     "duration": 0.048464,
     "end_time": "2022-08-09T14:40:49.954946",
     "exception": false,
     "start_time": "2022-08-09T14:40:49.906482",
     "status": "completed"
    },
    "tags": []
   },
   "outputs": [
    {
     "name": "stdout",
     "output_type": "stream",
     "text": [
      "Model: \"sequential\"\n",
      "_________________________________________________________________\n",
      "Layer (type)                 Output Shape              Param #   \n",
      "=================================================================\n",
      "conv2d (Conv2D)              (None, 28, 28, 32)        832       \n",
      "_________________________________________________________________\n",
      "conv2d_1 (Conv2D)            (None, 28, 28, 32)        25632     \n",
      "_________________________________________________________________\n",
      "batch_normalization (BatchNo (None, 28, 28, 32)        128       \n",
      "_________________________________________________________________\n",
      "max_pooling2d (MaxPooling2D) (None, 14, 14, 32)        0         \n",
      "_________________________________________________________________\n",
      "dropout (Dropout)            (None, 14, 14, 32)        0         \n",
      "_________________________________________________________________\n",
      "conv2d_2 (Conv2D)            (None, 14, 14, 64)        18496     \n",
      "_________________________________________________________________\n",
      "conv2d_3 (Conv2D)            (None, 14, 14, 64)        36928     \n",
      "_________________________________________________________________\n",
      "batch_normalization_1 (Batch (None, 14, 14, 64)        256       \n",
      "_________________________________________________________________\n",
      "max_pooling2d_1 (MaxPooling2 (None, 7, 7, 64)          0         \n",
      "_________________________________________________________________\n",
      "dropout_1 (Dropout)          (None, 7, 7, 64)          0         \n",
      "_________________________________________________________________\n",
      "conv2d_4 (Conv2D)            (None, 7, 7, 32)          51232     \n",
      "_________________________________________________________________\n",
      "conv2d_5 (Conv2D)            (None, 7, 7, 32)          25632     \n",
      "_________________________________________________________________\n",
      "batch_normalization_2 (Batch (None, 7, 7, 32)          128       \n",
      "_________________________________________________________________\n",
      "max_pooling2d_2 (MaxPooling2 (None, 3, 3, 32)          0         \n",
      "_________________________________________________________________\n",
      "dropout_2 (Dropout)          (None, 3, 3, 32)          0         \n",
      "_________________________________________________________________\n",
      "flatten (Flatten)            (None, 288)               0         \n",
      "_________________________________________________________________\n",
      "dense (Dense)                (None, 256)               73984     \n",
      "_________________________________________________________________\n",
      "dropout_3 (Dropout)          (None, 256)               0         \n",
      "_________________________________________________________________\n",
      "dense_1 (Dense)              (None, 10)                2570      \n",
      "=================================================================\n",
      "Total params: 235,818\n",
      "Trainable params: 235,562\n",
      "Non-trainable params: 256\n",
      "_________________________________________________________________\n"
     ]
    }
   ],
   "source": [
    "model.summary()"
   ]
  },
  {
   "cell_type": "code",
   "execution_count": 16,
   "id": "bbc24f1d",
   "metadata": {
    "execution": {
     "iopub.execute_input": "2022-08-09T14:40:50.024706Z",
     "iopub.status.busy": "2022-08-09T14:40:50.023871Z",
     "iopub.status.idle": "2022-08-09T14:40:50.028692Z",
     "shell.execute_reply": "2022-08-09T14:40:50.027768Z"
    },
    "papermill": {
     "duration": 0.042198,
     "end_time": "2022-08-09T14:40:50.030485",
     "exception": false,
     "start_time": "2022-08-09T14:40:49.988287",
     "status": "completed"
    },
    "tags": []
   },
   "outputs": [],
   "source": [
    "optimizer=Adam(learning_rate=0.001,beta_1=0.9,beta_2=0.999)"
   ]
  },
  {
   "cell_type": "code",
   "execution_count": 17,
   "id": "a8af3c04",
   "metadata": {
    "execution": {
     "iopub.execute_input": "2022-08-09T14:40:50.097293Z",
     "iopub.status.busy": "2022-08-09T14:40:50.096369Z",
     "iopub.status.idle": "2022-08-09T14:40:50.109188Z",
     "shell.execute_reply": "2022-08-09T14:40:50.108453Z"
    },
    "papermill": {
     "duration": 0.048815,
     "end_time": "2022-08-09T14:40:50.111413",
     "exception": false,
     "start_time": "2022-08-09T14:40:50.062598",
     "status": "completed"
    },
    "tags": []
   },
   "outputs": [],
   "source": [
    "model.compile(optimizer=optimizer,loss=['categorical_crossentropy'],metrics=['accuracy'])\n"
   ]
  },
  {
   "cell_type": "code",
   "execution_count": 18,
   "id": "a39646c9",
   "metadata": {
    "execution": {
     "iopub.execute_input": "2022-08-09T14:40:50.177979Z",
     "iopub.status.busy": "2022-08-09T14:40:50.177467Z",
     "iopub.status.idle": "2022-08-09T14:40:50.181795Z",
     "shell.execute_reply": "2022-08-09T14:40:50.181106Z"
    },
    "papermill": {
     "duration": 0.040003,
     "end_time": "2022-08-09T14:40:50.183616",
     "exception": false,
     "start_time": "2022-08-09T14:40:50.143613",
     "status": "completed"
    },
    "tags": []
   },
   "outputs": [],
   "source": [
    "learning_rate_reduction = ReduceLROnPlateau(monitor='val_acc', \n",
    "                                            patience=3, \n",
    "                                            verbose=1, \n",
    "                                            factor=0.5, \n",
    "                                            min_lr=0.00001)"
   ]
  },
  {
   "cell_type": "code",
   "execution_count": 19,
   "id": "9ae3a59b",
   "metadata": {
    "execution": {
     "iopub.execute_input": "2022-08-09T14:40:50.249259Z",
     "iopub.status.busy": "2022-08-09T14:40:50.248761Z",
     "iopub.status.idle": "2022-08-09T14:40:50.252244Z",
     "shell.execute_reply": "2022-08-09T14:40:50.251549Z"
    },
    "papermill": {
     "duration": 0.038424,
     "end_time": "2022-08-09T14:40:50.253999",
     "exception": false,
     "start_time": "2022-08-09T14:40:50.215575",
     "status": "completed"
    },
    "tags": []
   },
   "outputs": [],
   "source": [
    "epochs=5 #change this to 30 if you need to get better score\n",
    "batch_size=64"
   ]
  },
  {
   "cell_type": "code",
   "execution_count": 20,
   "id": "1b1a600e",
   "metadata": {
    "execution": {
     "iopub.execute_input": "2022-08-09T14:40:50.321588Z",
     "iopub.status.busy": "2022-08-09T14:40:50.321095Z",
     "iopub.status.idle": "2022-08-09T14:47:37.238676Z",
     "shell.execute_reply": "2022-08-09T14:47:37.237962Z"
    },
    "papermill": {
     "duration": 406.953887,
     "end_time": "2022-08-09T14:47:37.240990",
     "exception": false,
     "start_time": "2022-08-09T14:40:50.287103",
     "status": "completed"
    },
    "tags": []
   },
   "outputs": [
    {
     "name": "stderr",
     "output_type": "stream",
     "text": [
      "/opt/conda/lib/python3.7/site-packages/keras/engine/training.py:1972: UserWarning: `Model.fit_generator` is deprecated and will be removed in a future version. Please use `Model.fit`, which supports generators.\n",
      "  warnings.warn('`Model.fit_generator` is deprecated and '\n",
      "2022-08-09 14:40:50.481504: I tensorflow/compiler/mlir/mlir_graph_optimization_pass.cc:185] None of the MLIR Optimization Passes are enabled (registered 2)\n"
     ]
    },
    {
     "name": "stdout",
     "output_type": "stream",
     "text": [
      "Epoch 1/5\n",
      "557/557 - 81s - loss: 0.4533 - accuracy: 0.8557 - val_loss: 0.0645 - val_accuracy: 0.9792\n",
      "Epoch 2/5\n",
      "557/557 - 80s - loss: 0.1177 - accuracy: 0.9636 - val_loss: 0.0507 - val_accuracy: 0.9837\n",
      "Epoch 3/5\n",
      "557/557 - 80s - loss: 0.0910 - accuracy: 0.9723 - val_loss: 0.0439 - val_accuracy: 0.9860\n",
      "Epoch 4/5\n",
      "557/557 - 80s - loss: 0.0750 - accuracy: 0.9775 - val_loss: 0.0409 - val_accuracy: 0.9883\n",
      "Epoch 5/5\n",
      "557/557 - 80s - loss: 0.0647 - accuracy: 0.9820 - val_loss: 0.0285 - val_accuracy: 0.9919\n"
     ]
    }
   ],
   "source": [
    "history = model.fit_generator(datagen.flow(X_train,y_train, batch_size=batch_size),\n",
    "                              epochs = epochs, validation_data = (X_test,y_test),\n",
    "                              verbose = 2, steps_per_epoch=X_train.shape[0] // batch_size\n",
    "                              , callbacks=[learning_rate_reduction])"
   ]
  },
  {
   "cell_type": "code",
   "execution_count": 21,
   "id": "3c270772",
   "metadata": {
    "execution": {
     "iopub.execute_input": "2022-08-09T14:47:37.317991Z",
     "iopub.status.busy": "2022-08-09T14:47:37.317514Z",
     "iopub.status.idle": "2022-08-09T14:47:41.329387Z",
     "shell.execute_reply": "2022-08-09T14:47:41.328673Z"
    },
    "papermill": {
     "duration": 4.05404,
     "end_time": "2022-08-09T14:47:41.331673",
     "exception": false,
     "start_time": "2022-08-09T14:47:37.277633",
     "status": "completed"
    },
    "tags": []
   },
   "outputs": [],
   "source": [
    "y_pre_test=model.predict(X_test)\n",
    "y_pre_test=np.argmax(y_pre_test,axis=1)\n",
    "y_test=np.argmax(y_test,axis=1)"
   ]
  },
  {
   "cell_type": "code",
   "execution_count": 22,
   "id": "92c383f1",
   "metadata": {
    "execution": {
     "iopub.execute_input": "2022-08-09T14:47:41.404889Z",
     "iopub.status.busy": "2022-08-09T14:47:41.404460Z",
     "iopub.status.idle": "2022-08-09T14:47:41.424303Z",
     "shell.execute_reply": "2022-08-09T14:47:41.423394Z"
    },
    "papermill": {
     "duration": 0.05925,
     "end_time": "2022-08-09T14:47:41.426563",
     "exception": false,
     "start_time": "2022-08-09T14:47:41.367313",
     "status": "completed"
    },
    "tags": []
   },
   "outputs": [
    {
     "data": {
      "text/html": [
       "<div>\n",
       "<style scoped>\n",
       "    .dataframe tbody tr th:only-of-type {\n",
       "        vertical-align: middle;\n",
       "    }\n",
       "\n",
       "    .dataframe tbody tr th {\n",
       "        vertical-align: top;\n",
       "    }\n",
       "\n",
       "    .dataframe thead th {\n",
       "        text-align: right;\n",
       "    }\n",
       "</style>\n",
       "<table border=\"1\" class=\"dataframe\">\n",
       "  <thead>\n",
       "    <tr style=\"text-align: right;\">\n",
       "      <th></th>\n",
       "      <th>0</th>\n",
       "      <th>1</th>\n",
       "      <th>2</th>\n",
       "      <th>3</th>\n",
       "      <th>4</th>\n",
       "      <th>5</th>\n",
       "      <th>6</th>\n",
       "      <th>7</th>\n",
       "      <th>8</th>\n",
       "      <th>9</th>\n",
       "    </tr>\n",
       "  </thead>\n",
       "  <tbody>\n",
       "    <tr>\n",
       "      <th>0</th>\n",
       "      <td>598</td>\n",
       "      <td>0</td>\n",
       "      <td>0</td>\n",
       "      <td>0</td>\n",
       "      <td>0</td>\n",
       "      <td>0</td>\n",
       "      <td>2</td>\n",
       "      <td>0</td>\n",
       "      <td>0</td>\n",
       "      <td>0</td>\n",
       "    </tr>\n",
       "    <tr>\n",
       "      <th>1</th>\n",
       "      <td>0</td>\n",
       "      <td>675</td>\n",
       "      <td>1</td>\n",
       "      <td>0</td>\n",
       "      <td>0</td>\n",
       "      <td>0</td>\n",
       "      <td>1</td>\n",
       "      <td>3</td>\n",
       "      <td>0</td>\n",
       "      <td>0</td>\n",
       "    </tr>\n",
       "    <tr>\n",
       "      <th>2</th>\n",
       "      <td>0</td>\n",
       "      <td>0</td>\n",
       "      <td>646</td>\n",
       "      <td>0</td>\n",
       "      <td>0</td>\n",
       "      <td>0</td>\n",
       "      <td>0</td>\n",
       "      <td>0</td>\n",
       "      <td>0</td>\n",
       "      <td>0</td>\n",
       "    </tr>\n",
       "    <tr>\n",
       "      <th>3</th>\n",
       "      <td>0</td>\n",
       "      <td>0</td>\n",
       "      <td>3</td>\n",
       "      <td>714</td>\n",
       "      <td>0</td>\n",
       "      <td>0</td>\n",
       "      <td>0</td>\n",
       "      <td>1</td>\n",
       "      <td>0</td>\n",
       "      <td>1</td>\n",
       "    </tr>\n",
       "    <tr>\n",
       "      <th>4</th>\n",
       "      <td>0</td>\n",
       "      <td>0</td>\n",
       "      <td>0</td>\n",
       "      <td>0</td>\n",
       "      <td>625</td>\n",
       "      <td>0</td>\n",
       "      <td>0</td>\n",
       "      <td>0</td>\n",
       "      <td>0</td>\n",
       "      <td>4</td>\n",
       "    </tr>\n",
       "    <tr>\n",
       "      <th>5</th>\n",
       "      <td>0</td>\n",
       "      <td>0</td>\n",
       "      <td>0</td>\n",
       "      <td>3</td>\n",
       "      <td>0</td>\n",
       "      <td>510</td>\n",
       "      <td>2</td>\n",
       "      <td>0</td>\n",
       "      <td>1</td>\n",
       "      <td>0</td>\n",
       "    </tr>\n",
       "    <tr>\n",
       "      <th>6</th>\n",
       "      <td>0</td>\n",
       "      <td>1</td>\n",
       "      <td>0</td>\n",
       "      <td>0</td>\n",
       "      <td>1</td>\n",
       "      <td>0</td>\n",
       "      <td>596</td>\n",
       "      <td>0</td>\n",
       "      <td>0</td>\n",
       "      <td>0</td>\n",
       "    </tr>\n",
       "    <tr>\n",
       "      <th>7</th>\n",
       "      <td>0</td>\n",
       "      <td>1</td>\n",
       "      <td>7</td>\n",
       "      <td>0</td>\n",
       "      <td>0</td>\n",
       "      <td>0</td>\n",
       "      <td>0</td>\n",
       "      <td>658</td>\n",
       "      <td>0</td>\n",
       "      <td>1</td>\n",
       "    </tr>\n",
       "    <tr>\n",
       "      <th>8</th>\n",
       "      <td>0</td>\n",
       "      <td>0</td>\n",
       "      <td>6</td>\n",
       "      <td>1</td>\n",
       "      <td>1</td>\n",
       "      <td>0</td>\n",
       "      <td>0</td>\n",
       "      <td>1</td>\n",
       "      <td>605</td>\n",
       "      <td>2</td>\n",
       "    </tr>\n",
       "    <tr>\n",
       "      <th>9</th>\n",
       "      <td>0</td>\n",
       "      <td>0</td>\n",
       "      <td>3</td>\n",
       "      <td>0</td>\n",
       "      <td>1</td>\n",
       "      <td>1</td>\n",
       "      <td>0</td>\n",
       "      <td>2</td>\n",
       "      <td>0</td>\n",
       "      <td>622</td>\n",
       "    </tr>\n",
       "  </tbody>\n",
       "</table>\n",
       "</div>"
      ],
      "text/plain": [
       "     0    1    2    3    4    5    6    7    8    9\n",
       "0  598    0    0    0    0    0    2    0    0    0\n",
       "1    0  675    1    0    0    0    1    3    0    0\n",
       "2    0    0  646    0    0    0    0    0    0    0\n",
       "3    0    0    3  714    0    0    0    1    0    1\n",
       "4    0    0    0    0  625    0    0    0    0    4\n",
       "5    0    0    0    3    0  510    2    0    1    0\n",
       "6    0    1    0    0    1    0  596    0    0    0\n",
       "7    0    1    7    0    0    0    0  658    0    1\n",
       "8    0    0    6    1    1    0    0    1  605    2\n",
       "9    0    0    3    0    1    1    0    2    0  622"
      ]
     },
     "execution_count": 22,
     "metadata": {},
     "output_type": "execute_result"
    }
   ],
   "source": [
    "conf=confusion_matrix(y_test,y_pre_test)\n",
    "conf=pd.DataFrame(conf,index=range(0,10),columns=range(0,10))\n",
    "conf"
   ]
  },
  {
   "cell_type": "code",
   "execution_count": 23,
   "id": "49ba69ad",
   "metadata": {
    "execution": {
     "iopub.execute_input": "2022-08-09T14:47:41.500537Z",
     "iopub.status.busy": "2022-08-09T14:47:41.500096Z",
     "iopub.status.idle": "2022-08-09T14:47:42.465707Z",
     "shell.execute_reply": "2022-08-09T14:47:42.465043Z"
    },
    "papermill": {
     "duration": 1.004832,
     "end_time": "2022-08-09T14:47:42.467715",
     "exception": false,
     "start_time": "2022-08-09T14:47:41.462883",
     "status": "completed"
    },
    "tags": []
   },
   "outputs": [
    {
     "data": {
      "text/plain": [
       "<AxesSubplot:>"
      ]
     },
     "execution_count": 23,
     "metadata": {},
     "output_type": "execute_result"
    },
    {
     "data": {
      "image/png": "[encoded data removed]",
      "text/plain": [
       "<Figure size 576x432 with 2 Axes>"
      ]
     },
     "metadata": {
      "needs_background": "light"
     },
     "output_type": "display_data"
    }
   ],
   "source": [
    "plt.figure(figsize=(8,6))\n",
    "sns.set(font_scale=1.4)#for label size\n",
    "sns.heatmap(conf, annot=True,annot_kws={\"size\": 16},cmap=plt.cm.Blues)# font size"
   ]
  },
  {
   "cell_type": "code",
   "execution_count": 24,
   "id": "990543ff",
   "metadata": {
    "execution": {
     "iopub.execute_input": "2022-08-09T14:47:42.546238Z",
     "iopub.status.busy": "2022-08-09T14:47:42.545675Z",
     "iopub.status.idle": "2022-08-09T14:47:42.607281Z",
     "shell.execute_reply": "2022-08-09T14:47:42.606420Z"
    },
    "papermill": {
     "duration": 0.103381,
     "end_time": "2022-08-09T14:47:42.609674",
     "exception": false,
     "start_time": "2022-08-09T14:47:42.506293",
     "status": "completed"
    },
    "tags": []
   },
   "outputs": [],
   "source": [
    "#test_id=test.id\n",
    "\n",
    "#test=test.drop('id',axis=1)\n",
    "test=test/255\n",
    "test=test.values.reshape(-1,28,28,1)"
   ]
  },
  {
   "cell_type": "code",
   "execution_count": 25,
   "id": "8e9942de",
   "metadata": {
    "execution": {
     "iopub.execute_input": "2022-08-09T14:47:42.686942Z",
     "iopub.status.busy": "2022-08-09T14:47:42.686676Z",
     "iopub.status.idle": "2022-08-09T14:48:01.244561Z",
     "shell.execute_reply": "2022-08-09T14:48:01.243850Z"
    },
    "papermill": {
     "duration": 18.599056,
     "end_time": "2022-08-09T14:48:01.246765",
     "exception": false,
     "start_time": "2022-08-09T14:47:42.647709",
     "status": "completed"
    },
    "tags": []
   },
   "outputs": [],
   "source": [
    "y_pre=model.predict(test)     ##making prediction\n",
    "y_pre=np.argmax(y_pre,axis=1) ##changing the prediction intro labels"
   ]
  },
  {
   "cell_type": "code",
   "execution_count": 26,
   "id": "6bc8a9b2",
   "metadata": {
    "execution": {
     "iopub.execute_input": "2022-08-09T14:48:01.324840Z",
     "iopub.status.busy": "2022-08-09T14:48:01.324309Z",
     "iopub.status.idle": "2022-08-09T14:48:01.347792Z",
     "shell.execute_reply": "2022-08-09T14:48:01.346876Z"
    },
    "papermill": {
     "duration": 0.065164,
     "end_time": "2022-08-09T14:48:01.350359",
     "exception": false,
     "start_time": "2022-08-09T14:48:01.285195",
     "status": "completed"
    },
    "tags": []
   },
   "outputs": [],
   "source": [
    "sample_sub=pd.read_csv(\"/kaggle/input/digit-recognizer/sample_submission.csv\")"
   ]
  },
  {
   "cell_type": "code",
   "execution_count": 27,
   "id": "4d874df5",
   "metadata": {
    "execution": {
     "iopub.execute_input": "2022-08-09T14:48:01.428075Z",
     "iopub.status.busy": "2022-08-09T14:48:01.427539Z",
     "iopub.status.idle": "2022-08-09T14:48:01.468932Z",
     "shell.execute_reply": "2022-08-09T14:48:01.468009Z"
    },
    "papermill": {
     "duration": 0.083108,
     "end_time": "2022-08-09T14:48:01.471506",
     "exception": false,
     "start_time": "2022-08-09T14:48:01.388398",
     "status": "completed"
    },
    "tags": []
   },
   "outputs": [],
   "source": [
    "sample_sub['label']=y_pre\n",
    "sample_sub.to_csv('submission.csv',index=False)"
   ]
  },
  {
   "cell_type": "code",
   "execution_count": 28,
   "id": "cd9467d8",
   "metadata": {
    "execution": {
     "iopub.execute_input": "2022-08-09T14:48:01.551695Z",
     "iopub.status.busy": "2022-08-09T14:48:01.551013Z",
     "iopub.status.idle": "2022-08-09T14:48:01.560925Z",
     "shell.execute_reply": "2022-08-09T14:48:01.560108Z"
    },
    "papermill": {
     "duration": 0.052733,
     "end_time": "2022-08-09T14:48:01.563019",
     "exception": false,
     "start_time": "2022-08-09T14:48:01.510286",
     "status": "completed"
    },
    "tags": []
   },
   "outputs": [
    {
     "data": {
      "text/html": [
       "<div>\n",
       "<style scoped>\n",
       "    .dataframe tbody tr th:only-of-type {\n",
       "        vertical-align: middle;\n",
       "    }\n",
       "\n",
       "    .dataframe tbody tr th {\n",
       "        vertical-align: top;\n",
       "    }\n",
       "\n",
       "    .dataframe thead th {\n",
       "        text-align: right;\n",
       "    }\n",
       "</style>\n",
       "<table border=\"1\" class=\"dataframe\">\n",
       "  <thead>\n",
       "    <tr style=\"text-align: right;\">\n",
       "      <th></th>\n",
       "      <th>ImageId</th>\n",
       "      <th>Label</th>\n",
       "      <th>label</th>\n",
       "    </tr>\n",
       "  </thead>\n",
       "  <tbody>\n",
       "    <tr>\n",
       "      <th>0</th>\n",
       "      <td>1</td>\n",
       "      <td>0</td>\n",
       "      <td>2</td>\n",
       "    </tr>\n",
       "    <tr>\n",
       "      <th>1</th>\n",
       "      <td>2</td>\n",
       "      <td>0</td>\n",
       "      <td>0</td>\n",
       "    </tr>\n",
       "    <tr>\n",
       "      <th>2</th>\n",
       "      <td>3</td>\n",
       "      <td>0</td>\n",
       "      <td>9</td>\n",
       "    </tr>\n",
       "    <tr>\n",
       "      <th>3</th>\n",
       "      <td>4</td>\n",
       "      <td>0</td>\n",
       "      <td>0</td>\n",
       "    </tr>\n",
       "    <tr>\n",
       "      <th>4</th>\n",
       "      <td>5</td>\n",
       "      <td>0</td>\n",
       "      <td>3</td>\n",
       "    </tr>\n",
       "  </tbody>\n",
       "</table>\n",
       "</div>"
      ],
      "text/plain": [
       "   ImageId  Label  label\n",
       "0        1      0      2\n",
       "1        2      0      0\n",
       "2        3      0      9\n",
       "3        4      0      0\n",
       "4        5      0      3"
      ]
     },
     "execution_count": 28,
     "metadata": {},
     "output_type": "execute_result"
    }
   ],
   "source": [
    "sample_sub.head()"
   ]
  },
  {
   "cell_type": "code",
   "execution_count": 29,
   "id": "1f71fc8b",
   "metadata": {
    "execution": {
     "iopub.execute_input": "2022-08-09T14:48:01.641767Z",
     "iopub.status.busy": "2022-08-09T14:48:01.641482Z",
     "iopub.status.idle": "2022-08-09T14:48:01.707810Z",
     "shell.execute_reply": "2022-08-09T14:48:01.707140Z"
    },
    "papermill": {
     "duration": 0.108236,
     "end_time": "2022-08-09T14:48:01.709990",
     "exception": false,
     "start_time": "2022-08-09T14:48:01.601754",
     "status": "completed"
    },
    "tags": []
   },
   "outputs": [],
   "source": [
    "model.save(\"keras_mnist1.h5\")"
   ]
  },
  {
   "cell_type": "code",
   "execution_count": 30,
   "id": "152f4ee2",
   "metadata": {
    "execution": {
     "iopub.execute_input": "2022-08-09T14:48:01.788766Z",
     "iopub.status.busy": "2022-08-09T14:48:01.788420Z",
     "iopub.status.idle": "2022-08-09T14:48:41.101416Z",
     "shell.execute_reply": "2022-08-09T14:48:41.100184Z"
    },
    "papermill": {
     "duration": 39.394356,
     "end_time": "2022-08-09T14:48:41.142795",
     "exception": false,
     "start_time": "2022-08-09T14:48:01.748439",
     "status": "completed"
    },
    "tags": []
   },
   "outputs": [
    {
     "name": "stdout",
     "output_type": "stream",
     "text": [
      "3.19.0\n"
     ]
    }
   ],
   "source": [
    "# install / update the tensorflowjs package\n",
    "!pip install tensorflowjs > /dev/null 2>&1\n",
    "\n",
    "import tensorflowjs\n",
    "print(tensorflowjs.__version__)\n",
    "\n",
    "# convert keras model to tensorflow js\n"
   ]
  },
  {
   "cell_type": "code",
   "execution_count": 31,
   "id": "739784a9",
   "metadata": {
    "execution": {
     "iopub.execute_input": "2022-08-09T14:48:41.221951Z",
     "iopub.status.busy": "2022-08-09T14:48:41.221658Z",
     "iopub.status.idle": "2022-08-09T14:48:41.305752Z",
     "shell.execute_reply": "2022-08-09T14:48:41.304809Z"
    },
    "papermill": {
     "duration": 0.126812,
     "end_time": "2022-08-09T14:48:41.308170",
     "exception": false,
     "start_time": "2022-08-09T14:48:41.181358",
     "status": "completed"
    },
    "tags": []
   },
   "outputs": [],
   "source": [
    "tensorflowjs.converters.save_keras_model(model, '/kaggle/working')"
   ]
  }
 ],
 "metadata": {
  "kernelspec": {
   "display_name": "Python 3",
   "language": "python",
   "name": "python3"
  },
  "language_info": {
   "codemirror_mode": {
    "name": "ipython",
    "version": 3
   },
   "file_extension": ".py",
   "mimetype": "text/x-python",
   "name": "python",
   "nbconvert_exporter": "python",
   "pygments_lexer": "ipython3",
   "version": "3.7.12"
  },
  "papermill": {
   "default_parameters": {},
   "duration": 498.993427,
   "end_time": "2022-08-09T14:48:44.302318",
   "environment_variables": {},
   "exception": null,
   "input_path": "__notebook__.ipynb",
   "output_path": "__notebook__.ipynb",
   "parameters": {},
   "start_time": "2022-08-09T14:40:25.308891",
   "version": "2.3.4"
  }
 },
 "nbformat": 4,
 "nbformat_minor": 5
}
